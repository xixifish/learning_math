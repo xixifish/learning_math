{
 "cells": [
  {
   "metadata": {},
   "cell_type": "markdown",
   "source": [
    "## Permutation and Combination\n",
    "* When the order **doesn't** matter, it is a **Combination**.\n",
    "* When the order **does** matter it is a **Permutation**."
   ],
   "id": "8f0d43bdb3945c7f"
  },
  {
   "metadata": {},
   "cell_type": "markdown",
   "source": [
    "#### Example: Combination with Repetition\n",
    "Let us say there are five flavours of icecream: **bananas, chocolate, lemon, strawberry and vanilla**.\n",
    "\n",
    "We can have three scoops. How many variations will there be?"
   ],
   "id": "4b9a5740ab7b483b"
  },
  {
   "cell_type": "code",
   "id": "initial_id",
   "metadata": {
    "collapsed": true,
    "ExecuteTime": {
     "end_time": "2025-05-27T01:03:27.567266Z",
     "start_time": "2025-05-27T01:03:27.564831Z"
    }
   },
   "source": "import itertools",
   "outputs": [],
   "execution_count": 10
  },
  {
   "metadata": {
    "ExecuteTime": {
     "end_time": "2025-05-27T01:03:28.006435Z",
     "start_time": "2025-05-27T01:03:28.002977Z"
    }
   },
   "cell_type": "code",
   "source": [
    "icecream = [\"b\", \"c\", \"l\", \"s\", \"v\"] # five flavours\n",
    "# Scoop ice cream from five flavours with repetition\n",
    "all_scoops = [combo for combo in itertools.combinations_with_replacement(icecream, 3)]\n",
    "len(all_scoops)"
   ],
   "id": "eee4a29713b13db1",
   "outputs": [
    {
     "data": {
      "text/plain": [
       "35"
      ]
     },
     "execution_count": 11,
     "metadata": {},
     "output_type": "execute_result"
    }
   ],
   "execution_count": 11
  },
  {
   "metadata": {
    "ExecuteTime": {
     "end_time": "2025-05-27T01:03:28.284748Z",
     "start_time": "2025-05-27T01:03:28.280921Z"
    }
   },
   "cell_type": "code",
   "source": [
    "# Scoop ice cream from five flavours without repetition\n",
    "all_scoops_no_repetition = [combo for combo in itertools.combinations(icecream, 3)]\n",
    "len(all_scoops_no_repetition)"
   ],
   "id": "5643419264a6104",
   "outputs": [
    {
     "data": {
      "text/plain": [
       "10"
      ]
     },
     "execution_count": 12,
     "metadata": {},
     "output_type": "execute_result"
    }
   ],
   "execution_count": 12
  },
  {
   "metadata": {},
   "cell_type": "code",
   "outputs": [],
   "execution_count": null,
   "source": "",
   "id": "3141185a16aa7304"
  }
 ],
 "metadata": {
  "kernelspec": {
   "display_name": "Python 3",
   "language": "python",
   "name": "python3"
  },
  "language_info": {
   "codemirror_mode": {
    "name": "ipython",
    "version": 2
   },
   "file_extension": ".py",
   "mimetype": "text/x-python",
   "name": "python",
   "nbconvert_exporter": "python",
   "pygments_lexer": "ipython2",
   "version": "2.7.6"
  }
 },
 "nbformat": 4,
 "nbformat_minor": 5
}
