{
 "cells": [
  {
   "metadata": {},
   "cell_type": "markdown",
   "source": "## Matrix Calculation",
   "id": "43093d4f7a6de136"
  },
  {
   "cell_type": "code",
   "id": "initial_id",
   "metadata": {
    "collapsed": true,
    "ExecuteTime": {
     "end_time": "2025-06-01T12:30:37.902056Z",
     "start_time": "2025-06-01T12:30:37.804636Z"
    }
   },
   "source": "import numpy as np",
   "outputs": [],
   "execution_count": 1
  },
  {
   "metadata": {
    "ExecuteTime": {
     "end_time": "2025-06-01T12:34:43.129656Z",
     "start_time": "2025-06-01T12:34:43.125822Z"
    }
   },
   "cell_type": "code",
   "source": [
    "# All these objects are from the week-0 math questions.\n",
    "matrix_a = np.array([\n",
    "    [1, 3, 4],\n",
    "    [2, 2, 1],\n",
    "    [6, 4, 3]\n",
    "])\n",
    "\n",
    "matrix_b = np.array([\n",
    "    [2, 4],\n",
    "    [1, 1]\n",
    "])\n",
    "\n",
    "matrix_c = np.array([\n",
    "    [7, 3, 3],\n",
    "    [2, 1, 1],\n",
    "    [2, 2, 2]\n",
    "])\n",
    "\n",
    "matrix_d = np.array([\n",
    "    [4, 2],\n",
    "    [4, 6],\n",
    "    [1, 3]\n",
    "])\n",
    "\n",
    "vector_u = np.array([\n",
    "    [1],\n",
    "    [3]\n",
    "])\n",
    "\n",
    "vector_v = np.array([\n",
    "    [2],\n",
    "    [4],\n",
    "    [1]\n",
    "])"
   ],
   "id": "344d3845158c0c9c",
   "outputs": [],
   "execution_count": 2
  },
  {
   "metadata": {
    "ExecuteTime": {
     "end_time": "2025-06-01T12:55:05.609056Z",
     "start_time": "2025-06-01T12:55:05.603822Z"
    }
   },
   "cell_type": "code",
   "source": "matrix_a.dot(matrix_c)",
   "id": "f0ca2c9970a9b30c",
   "outputs": [
    {
     "data": {
      "text/plain": [
       "array([[21, 14, 14],\n",
       "       [20, 10, 10],\n",
       "       [56, 28, 28]])"
      ]
     },
     "execution_count": 4,
     "metadata": {},
     "output_type": "execute_result"
    }
   ],
   "execution_count": 4
  },
  {
   "metadata": {
    "ExecuteTime": {
     "end_time": "2025-06-01T12:55:28.307465Z",
     "start_time": "2025-06-01T12:55:28.304341Z"
    }
   },
   "cell_type": "code",
   "source": "matrix_c.dot(matrix_a)",
   "id": "5d6beddc0aac8fa5",
   "outputs": [
    {
     "data": {
      "text/plain": [
       "array([[31, 39, 40],\n",
       "       [10, 12, 12],\n",
       "       [18, 18, 16]])"
      ]
     },
     "execution_count": 5,
     "metadata": {},
     "output_type": "execute_result"
    }
   ],
   "execution_count": 5
  },
  {
   "metadata": {
    "ExecuteTime": {
     "end_time": "2025-06-01T12:58:19.221034Z",
     "start_time": "2025-06-01T12:58:19.218236Z"
    }
   },
   "cell_type": "code",
   "source": "matrix_a.dot(matrix_d)",
   "id": "7eb705a01275ffa3",
   "outputs": [
    {
     "data": {
      "text/plain": [
       "array([[20, 32],\n",
       "       [17, 19],\n",
       "       [43, 45]])"
      ]
     },
     "execution_count": 6,
     "metadata": {},
     "output_type": "execute_result"
    }
   ],
   "execution_count": 6
  },
  {
   "metadata": {
    "ExecuteTime": {
     "end_time": "2025-06-01T13:09:43.481991Z",
     "start_time": "2025-06-01T13:09:43.478451Z"
    }
   },
   "cell_type": "code",
   "source": "matrix_c.dot(matrix_d)",
   "id": "7bcdadcd3e8de9a4",
   "outputs": [
    {
     "data": {
      "text/plain": [
       "array([[43, 41],\n",
       "       [13, 13],\n",
       "       [18, 22]])"
      ]
     },
     "execution_count": 9,
     "metadata": {},
     "output_type": "execute_result"
    }
   ],
   "execution_count": 9
  },
  {
   "metadata": {
    "ExecuteTime": {
     "end_time": "2025-06-01T13:16:39.884631Z",
     "start_time": "2025-06-01T13:16:39.881269Z"
    }
   },
   "cell_type": "code",
   "source": [
    "d_transpose = matrix_d.T\n",
    "d_transpose"
   ],
   "id": "b2261066b343c5ad",
   "outputs": [
    {
     "data": {
      "text/plain": [
       "array([[4, 4, 1],\n",
       "       [2, 6, 3]])"
      ]
     },
     "execution_count": 13,
     "metadata": {},
     "output_type": "execute_result"
    }
   ],
   "execution_count": 13
  },
  {
   "metadata": {
    "ExecuteTime": {
     "end_time": "2025-06-01T13:26:21.382108Z",
     "start_time": "2025-06-01T13:26:21.379074Z"
    }
   },
   "cell_type": "code",
   "source": [
    "# d_transpose.dot(matrix_c)\n",
    "d_transpose @ matrix_c"
   ],
   "id": "41a60a02501c917a",
   "outputs": [
    {
     "data": {
      "text/plain": [
       "array([[38, 18, 18],\n",
       "       [32, 18, 18]])"
      ]
     },
     "execution_count": 18,
     "metadata": {},
     "output_type": "execute_result"
    }
   ],
   "execution_count": 18
  },
  {
   "metadata": {
    "ExecuteTime": {
     "end_time": "2025-06-01T13:18:18.846374Z",
     "start_time": "2025-06-01T13:18:18.843358Z"
    }
   },
   "cell_type": "code",
   "source": "matrix_b.dot(vector_u)",
   "id": "2e495aa1eb572b33",
   "outputs": [
    {
     "data": {
      "text/plain": [
       "array([[14],\n",
       "       [ 4]])"
      ]
     },
     "execution_count": 14,
     "metadata": {},
     "output_type": "execute_result"
    }
   ],
   "execution_count": 14
  },
  {
   "metadata": {
    "ExecuteTime": {
     "end_time": "2025-06-01T13:20:03.567243Z",
     "start_time": "2025-06-01T13:20:03.563887Z"
    }
   },
   "cell_type": "code",
   "source": "matrix_a.dot(vector_v)",
   "id": "72257fa2c7b18711",
   "outputs": [
    {
     "data": {
      "text/plain": [
       "array([[18],\n",
       "       [13],\n",
       "       [31]])"
      ]
     },
     "execution_count": 15,
     "metadata": {},
     "output_type": "execute_result"
    }
   ],
   "execution_count": 15
  },
  {
   "metadata": {
    "ExecuteTime": {
     "end_time": "2025-06-01T13:21:13.267986Z",
     "start_time": "2025-06-01T13:21:13.264367Z"
    }
   },
   "cell_type": "code",
   "source": "matrix_a.dot(vector_v) + matrix_c.dot(vector_v)",
   "id": "ea0d7d34eab14422",
   "outputs": [
    {
     "data": {
      "text/plain": [
       "array([[47],\n",
       "       [22],\n",
       "       [45]])"
      ]
     },
     "execution_count": 16,
     "metadata": {},
     "output_type": "execute_result"
    }
   ],
   "execution_count": 16
  },
  {
   "metadata": {
    "ExecuteTime": {
     "end_time": "2025-06-01T13:24:41.970871Z",
     "start_time": "2025-06-01T13:24:41.968508Z"
    }
   },
   "cell_type": "code",
   "source": [
    "vector_w = np.array([\n",
    "    [1],\n",
    "    [-2],\n",
    "    [2]\n",
    "])"
   ],
   "id": "82d3de0566e65083",
   "outputs": [],
   "execution_count": 17
  },
  {
   "metadata": {},
   "cell_type": "markdown",
   "source": "#### Using NumPy's Built-in Functions to Calculate Norm",
   "id": "3c735c0cc5332b17"
  },
  {
   "metadata": {
    "ExecuteTime": {
     "end_time": "2025-06-01T13:46:31.898987Z",
     "start_time": "2025-06-01T13:46:31.895555Z"
    }
   },
   "cell_type": "code",
   "source": [
    "print(f\"|| u ||_1 = {np.linalg.norm(vector_v, 1)}\")              # L1 norm\n",
    "print(f\"|| u ||_2 = {np.linalg.norm(vector_v, 2)}\")              # L2 norm\n",
    "print(f\"|| u ||_2^2 = {np.linalg.norm(vector_v, 2) ** 2}\")   # Squared L2 norm\n",
    "print(f\"|| u ||_∞ = {np.linalg.norm(vector_v, np.inf)}\")       # Infinity norm"
   ],
   "id": "5a0906948c831361",
   "outputs": [
    {
     "name": "stdout",
     "output_type": "stream",
     "text": [
      "|| u ||_1 = 7.0\n",
      "|| u ||_2 = 4.58257569495584\n",
      "|| u ||_2^2 = 21.0\n",
      "|| u ||_∞ = 4.0\n"
     ]
    }
   ],
   "execution_count": 23
  },
  {
   "metadata": {
    "ExecuteTime": {
     "end_time": "2025-06-01T13:47:23.135733Z",
     "start_time": "2025-06-01T13:47:23.133960Z"
    }
   },
   "cell_type": "code",
   "source": "vector_result = vector_v + vector_w",
   "id": "47b0e81d29bce84f",
   "outputs": [],
   "execution_count": 24
  },
  {
   "metadata": {
    "ExecuteTime": {
     "end_time": "2025-06-01T13:48:05.416512Z",
     "start_time": "2025-06-01T13:48:05.413230Z"
    }
   },
   "cell_type": "code",
   "source": [
    "# || v + w ||_1\n",
    "np.linalg.norm(vector_result, 1)"
   ],
   "id": "f435e813e868aab9",
   "outputs": [
    {
     "data": {
      "text/plain": [
       "np.float64(8.0)"
      ]
     },
     "execution_count": 27,
     "metadata": {},
     "output_type": "execute_result"
    }
   ],
   "execution_count": 27
  },
  {
   "metadata": {
    "ExecuteTime": {
     "end_time": "2025-06-01T13:48:22.832429Z",
     "start_time": "2025-06-01T13:48:22.830168Z"
    }
   },
   "cell_type": "code",
   "source": [
    "# || v + w ||_2\n",
    "np.linalg.norm(vector_result, 2)"
   ],
   "id": "39aad241bf2a5c4a",
   "outputs": [
    {
     "data": {
      "text/plain": [
       "np.float64(4.69041575982343)"
      ]
     },
     "execution_count": 28,
     "metadata": {},
     "output_type": "execute_result"
    }
   ],
   "execution_count": 28
  },
  {
   "metadata": {
    "ExecuteTime": {
     "end_time": "2025-06-01T13:48:57.798071Z",
     "start_time": "2025-06-01T13:48:57.795318Z"
    }
   },
   "cell_type": "code",
   "source": [
    "# || v + w ||_2^2\n",
    "np.linalg.norm(vector_result, 2) ** 2"
   ],
   "id": "e4a73967cbec7c0e",
   "outputs": [
    {
     "data": {
      "text/plain": [
       "np.float64(22.0)"
      ]
     },
     "execution_count": 29,
     "metadata": {},
     "output_type": "execute_result"
    }
   ],
   "execution_count": 29
  },
  {
   "metadata": {
    "ExecuteTime": {
     "end_time": "2025-06-01T13:50:06.694009Z",
     "start_time": "2025-06-01T13:50:06.691080Z"
    }
   },
   "cell_type": "code",
   "source": [
    "# || v + w ||_∞\n",
    "np.linalg.norm(vector_result, np.inf)"
   ],
   "id": "c6618415271d36c1",
   "outputs": [
    {
     "data": {
      "text/plain": [
       "np.float64(3.0)"
      ]
     },
     "execution_count": 30,
     "metadata": {},
     "output_type": "execute_result"
    }
   ],
   "execution_count": 30
  },
  {
   "metadata": {
    "ExecuteTime": {
     "end_time": "2025-06-01T13:51:18.184956Z",
     "start_time": "2025-06-01T13:51:18.181993Z"
    }
   },
   "cell_type": "code",
   "source": [
    "# || matrix_a @ v ||_2\n",
    "np.linalg.norm(matrix_a @ vector_v, 2)"
   ],
   "id": "4acaf45fe0889ff2",
   "outputs": [
    {
     "data": {
      "text/plain": [
       "np.float64(38.13135192987524)"
      ]
     },
     "execution_count": 31,
     "metadata": {},
     "output_type": "execute_result"
    }
   ],
   "execution_count": 31
  },
  {
   "metadata": {
    "ExecuteTime": {
     "end_time": "2025-06-01T13:52:15.234359Z",
     "start_time": "2025-06-01T13:52:15.231157Z"
    }
   },
   "cell_type": "code",
   "source": [
    "# || A(v - w) ||_∞\n",
    "np.linalg.norm(matrix_a @ (vector_v - vector_w), np.inf)"
   ],
   "id": "6f6708f5cd91ab51",
   "outputs": [
    {
     "data": {
      "text/plain": [
       "np.float64(27.0)"
      ]
     },
     "execution_count": 32,
     "metadata": {},
     "output_type": "execute_result"
    }
   ],
   "execution_count": 32
  },
  {
   "metadata": {
    "ExecuteTime": {
     "end_time": "2025-06-01T22:46:37.292543Z",
     "start_time": "2025-06-01T22:46:37.289984Z"
    }
   },
   "cell_type": "code",
   "source": [
    "vector_u = np.array([1, 2])\n",
    "vector_v = np.array([1, 1])\n",
    "vector_w = np.array([-1, 1/2])"
   ],
   "id": "633a0b07b375ef9d",
   "outputs": [],
   "execution_count": 44
  },
  {
   "metadata": {},
   "cell_type": "markdown",
   "source": "Compute the dot products between all pairs of vectors.",
   "id": "e444b3fd5c7982fe"
  },
  {
   "metadata": {
    "ExecuteTime": {
     "end_time": "2025-06-01T22:46:47.955855Z",
     "start_time": "2025-06-01T22:46:47.952613Z"
    }
   },
   "cell_type": "code",
   "source": "np.dot(vector_u.T, vector_v)",
   "id": "44e87a9e523723d6",
   "outputs": [
    {
     "data": {
      "text/plain": [
       "np.int64(3)"
      ]
     },
     "execution_count": 45,
     "metadata": {},
     "output_type": "execute_result"
    }
   ],
   "execution_count": 45
  },
  {
   "metadata": {
    "ExecuteTime": {
     "end_time": "2025-06-01T22:46:49.343778Z",
     "start_time": "2025-06-01T22:46:49.340450Z"
    }
   },
   "cell_type": "code",
   "source": "vector_u.T @ vector_w",
   "id": "8ab16649cd7195a6",
   "outputs": [
    {
     "data": {
      "text/plain": [
       "np.float64(0.0)"
      ]
     },
     "execution_count": 46,
     "metadata": {},
     "output_type": "execute_result"
    }
   ],
   "execution_count": 46
  },
  {
   "metadata": {
    "ExecuteTime": {
     "end_time": "2025-06-01T22:46:50.302694Z",
     "start_time": "2025-06-01T22:46:50.299731Z"
    }
   },
   "cell_type": "code",
   "source": "vector_v.T.dot(vector_w)",
   "id": "188a76810a4081d8",
   "outputs": [
    {
     "data": {
      "text/plain": [
       "np.float64(-0.5)"
      ]
     },
     "execution_count": 47,
     "metadata": {},
     "output_type": "execute_result"
    }
   ],
   "execution_count": 47
  },
  {
   "metadata": {},
   "cell_type": "markdown",
   "source": [
    "Then compute the angle between the vectors and plot, using the formular\n",
    "\n",
    "```cos(θ) = (vector_a · vector_b) / (|| a || · || b ||)```."
   ],
   "id": "b67c8bae296474b2"
  },
  {
   "metadata": {
    "ExecuteTime": {
     "end_time": "2025-06-01T22:57:41.061572Z",
     "start_time": "2025-06-01T22:57:41.058147Z"
    }
   },
   "cell_type": "code",
   "source": [
    "def angle_between_vectors(vec1, vec2):\n",
    "    \"\"\"\n",
    "    Calculate the angle between two vectors in radians and degrees.\n",
    "\n",
    "    Parameters:\n",
    "    vec1, vec2: numpy arrays representing the vectors\n",
    "\n",
    "    Returns:\n",
    "    angle_rad: angle in radians\n",
    "    angle_deg: angle in degrees\n",
    "    \"\"\"\n",
    "\n",
    "    # Calculate dot product\n",
    "    dot_product = np.dot(vec1, vec2)\n",
    "\n",
    "    # Calculate magnitudes (norms)\n",
    "    norm1 = np.linalg.norm(vec1)\n",
    "    norm2 = np.linalg.norm(vec2)\n",
    "\n",
    "    # Calculate cosine of angle\n",
    "    cos_angle = dot_product / (norm1 * norm2)\n",
    "\n",
    "    # Handle numerical errors (ensure cos_angle is in [-1, 1])\n",
    "    cos_angle = np.clip(cos_angle, -1.0, 1.0)\n",
    "\n",
    "    # Calculate angle in radians\n",
    "    angle_rad = np.arccos(cos_angle)\n",
    "\n",
    "    # Convert to degrees\n",
    "    angle_deg = np.degrees(angle_rad)\n",
    "\n",
    "    return angle_rad, angle_deg"
   ],
   "id": "b96faba9bd51347c",
   "outputs": [],
   "execution_count": 48
  },
  {
   "metadata": {
    "ExecuteTime": {
     "end_time": "2025-06-01T23:02:53.277627Z",
     "start_time": "2025-06-01T23:02:53.273154Z"
    }
   },
   "cell_type": "code",
   "source": [
    "# Calculate all pairwise angles\n",
    "vectors = {'u': vector_u, 'v': vector_v, 'w': vector_w}\n",
    "vector_pairs = [('u', 'v'), ('u', 'w'), ('v', 'w')]\n",
    "\n",
    "print(\"Dot products and angles between vectors:\")\n",
    "print(\"=\" * 50)\n",
    "\n",
    "for name1, name2 in vector_pairs:\n",
    "    vec1 = vectors[name1]\n",
    "    vec2 = vectors[name2]\n",
    "\n",
    "    # Calculate dot product\n",
    "    dot_prod = np.dot(vec1, vec2)\n",
    "\n",
    "    # Calculate angle\n",
    "    angle_rad, angle_deg = angle_between_vectors(vec1, vec2)\n",
    "\n",
    "    print(f\"{name1}  ·  {name2} = {dot_prod:.3f}\")\n",
    "    print(f\"Angle between {name1} and {name2}: {angle_deg:.3f}°\")\n",
    "    print()"
   ],
   "id": "346dd374dc7b5455",
   "outputs": [
    {
     "name": "stdout",
     "output_type": "stream",
     "text": [
      "Dot products and angles between vectors:\n",
      "==================================================\n",
      "u  ·  v = 3.000\n",
      "Angle between u and v: 18.435°\n",
      "\n",
      "u  ·  w = 0.000\n",
      "Angle between u and w: 90.000°\n",
      "\n",
      "v  ·  w = -0.500\n",
      "Angle between v and w: 108.435°\n",
      "\n"
     ]
    }
   ],
   "execution_count": 51
  },
  {
   "metadata": {
    "ExecuteTime": {
     "end_time": "2025-06-01T23:21:46.987771Z",
     "start_time": "2025-06-01T23:21:46.985126Z"
    }
   },
   "cell_type": "code",
   "source": [
    "# Plot the vectors\n",
    "import matplotlib.pyplot as plt\n",
    "from matplotlib.patches import Arc\n",
    "import matplotlib.patches as patches"
   ],
   "id": "f95644a0914b6e96",
   "outputs": [],
   "execution_count": 55
  },
  {
   "metadata": {
    "ExecuteTime": {
     "end_time": "2025-06-02T01:11:40.783468Z",
     "start_time": "2025-06-02T01:11:40.711191Z"
    }
   },
   "cell_type": "code",
   "source": [
    "plt.figure(figsize=(10, 8))\n",
    "\n",
    "colors = ['red', 'blue', 'green']\n",
    "vector_names = ['u', 'v', 'w']\n",
    "\n",
    "for i, (name, vec) in enumerate(vectors.items()):\n",
    "    # i is the index counter provided by the enumerate() function: [(0, ('u', [1, 2])), (1, ('v', [1, 1])), ..]\n",
    "    # i is used to select the color from the colors list\n",
    "    plt.arrow(0, 0, vec[0], vec[1], head_width=0.1, head_length=0.1,\n",
    "              fc=colors[i], ec=colors[i], linewidth=2, label=f\"{name} = [{vec[0]}, {vec[1]}]\")\n",
    "\n",
    "# Add grid and labels\n",
    "plt.grid(True, alpha=0.3)\n",
    "plt.axhline(y=0, color='k', linewidth=0.5)\n",
    "plt.axvline(x=0, color='k', linewidth=0.5)\n",
    "plt.xlabel('x')\n",
    "plt.ylabel('y')\n",
    "plt.title('Vector Visualization')\n",
    "plt.legend()\n",
    "plt.axis('equal')\n",
    "\n",
    "# Set reasonable axis limits\n",
    "plt.xlim(-1.5, 1.5)\n",
    "plt.ylim(-0.5, 2.5)\n",
    "\n",
    "plt.tight_layout()\n",
    "plt.show()"
   ],
   "id": "e79745595bc48a7f",
   "outputs": [
    {
     "data": {
      "text/plain": [
       "<Figure size 1000x800 with 1 Axes>"
      ],
      "image/png": "[encoded data removed]"
     },
     "metadata": {},
     "output_type": "display_data"
    }
   ],
   "execution_count": 61
  },
  {
   "metadata": {
    "ExecuteTime": {
     "end_time": "2025-06-01T23:32:01.306673Z",
     "start_time": "2025-06-01T23:32:01.304098Z"
    }
   },
   "cell_type": "code",
   "source": [
    "# Compute the inverse of A.\n",
    "A = np.array([\n",
    "    [1, 3],\n",
    "    [4, 1]\n",
    "])"
   ],
   "id": "653a34038b2f1b98",
   "outputs": [],
   "execution_count": 57
  },
  {
   "metadata": {
    "ExecuteTime": {
     "end_time": "2025-06-01T23:54:23.076482Z",
     "start_time": "2025-06-01T23:54:23.073338Z"
    }
   },
   "cell_type": "code",
   "source": "np.linalg.det(A)",
   "id": "18e9ca7ad59de50d",
   "outputs": [
    {
     "data": {
      "text/plain": [
       "np.float64(-11.000000000000002)"
      ]
     },
     "execution_count": 59,
     "metadata": {},
     "output_type": "execute_result"
    }
   ],
   "execution_count": 59
  },
  {
   "metadata": {
    "ExecuteTime": {
     "end_time": "2025-06-01T23:54:37.737926Z",
     "start_time": "2025-06-01T23:54:37.734436Z"
    }
   },
   "cell_type": "code",
   "source": "np.linalg.inv(A)",
   "id": "4bc8940310f24615",
   "outputs": [
    {
     "data": {
      "text/plain": [
       "array([[-0.09090909,  0.27272727],\n",
       "       [ 0.36363636, -0.09090909]])"
      ]
     },
     "execution_count": 60,
     "metadata": {},
     "output_type": "execute_result"
    }
   ],
   "execution_count": 60
  },
  {
   "metadata": {},
   "cell_type": "code",
   "outputs": [],
   "execution_count": null,
   "source": "",
   "id": "4fa5b8480f396754"
  }
 ],
 "metadata": {
  "kernelspec": {
   "display_name": "Python 3",
   "language": "python",
   "name": "python3"
  },
  "language_info": {
   "codemirror_mode": {
    "name": "ipython",
    "version": 2
   },
   "file_extension": ".py",
   "mimetype": "text/x-python",
   "name": "python",
   "nbconvert_exporter": "python",
   "pygments_lexer": "ipython2",
   "version": "2.7.6"
  }
 },
 "nbformat": 4,
 "nbformat_minor": 5
}
